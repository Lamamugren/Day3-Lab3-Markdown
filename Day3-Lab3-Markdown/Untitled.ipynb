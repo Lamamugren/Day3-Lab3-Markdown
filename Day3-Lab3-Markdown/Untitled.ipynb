{
 "cells": [
  {
   "cell_type": "markdown",
   "id": "f1c0d668",
   "metadata": {},
   "source": [
    "# Data Science"
   ]
  },
  {
   "cell_type": "markdown",
   "id": "3ed8ecbd",
   "metadata": {},
   "source": [
    "## What is Data Science?"
   ]
  },
  {
   "cell_type": "markdown",
   "id": "8551cf5b",
   "metadata": {},
   "source": [
    "\n",
    "<b> Data Science is the science of extracting userful insights from data using data science methodologies. </b>"
   ]
  },
  {
   "cell_type": "code",
   "execution_count": 2,
   "id": "8c491ac2",
   "metadata": {},
   "outputs": [
    {
     "name": "stdout",
     "output_type": "stream",
     "text": [
      "hi ya'll\n"
     ]
    }
   ],
   "source": [
    "print('hi ya\\'ll')"
   ]
  },
  {
   "cell_type": "markdown",
   "id": "382002d3",
   "metadata": {},
   "source": [
    "### Data Types"
   ]
  },
  {
   "cell_type": "markdown",
   "id": "07a2a59c",
   "metadata": {},
   "source": [
    "* <u>Strings:</u> Written in quotation marks.\n",
    "* <u>Lists:</u> contain lists of items in strings, bools, or numbers, and are mutable. Written between two brackets. \n",
    "* <u>Tuples:</u> contain immutable items but they are iteratble. They are often between two parantheses. \n",
    "* <u>Dictionariess:</u> contain keys and values and written in curly brackets. \n",
    "* <u>bool:</u> True or False values. Also, True is 1, and False is 0. \n",
    "* <u>numbers:</u> are integers floats orr decimals or complex. \n"
   ]
  },
  {
   "cell_type": "markdown",
   "id": "b42b409e",
   "metadata": {},
   "source": [
    "_Multidisciplinary field_"
   ]
  },
  {
   "cell_type": "markdown",
   "id": "fd2a280e",
   "metadata": {},
   "source": [
    "![](DS.png)\n"
   ]
  },
  {
   "cell_type": "markdown",
   "id": "d545cdaa",
   "metadata": {},
   "source": [
    "* <u>Strings:</u> Written in quotation marks.\n",
    "* <u>Lists:</u> contain lists of items in strings, bools, or numbers, and are mutable. Written between two brackets. \n",
    "* <u>Tuples:</u> contain immutable items but they are iteratble. They are often between two parantheses. \n",
    "* <u>Dictionariess:</u> contain keys and values and written in curly brackets. \n",
    "* <u>bool:</u> True or False values. Also, True is 1, and False is 0. \n",
    "* <u>numbers:</u> are integers floats orr decimals or complex. \n"
   ]
  },
  {
   "cell_type": "code",
   "execution_count": 4,
   "id": "5637d8e2",
   "metadata": {},
   "outputs": [
    {
     "name": "stdout",
     "output_type": "stream",
     "text": [
      "DS Bootcamp\n"
     ]
    }
   ],
   "source": [
    "print (\"DS Bootcamp\")"
   ]
  },
  {
   "cell_type": "code",
   "execution_count": null,
   "id": "8650a065",
   "metadata": {},
   "outputs": [],
   "source": []
  }
 ],
 "metadata": {
  "kernelspec": {
   "display_name": "Python 3 (ipykernel)",
   "language": "python",
   "name": "python3"
  },
  "language_info": {
   "codemirror_mode": {
    "name": "ipython",
    "version": 3
   },
   "file_extension": ".py",
   "mimetype": "text/x-python",
   "name": "python",
   "nbconvert_exporter": "python",
   "pygments_lexer": "ipython3",
   "version": "3.9.13"
  }
 },
 "nbformat": 4,
 "nbformat_minor": 5
}
